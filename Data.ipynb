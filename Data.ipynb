{
 "cells": [
  {
   "cell_type": "code",
   "execution_count": 1,
   "metadata": {},
   "outputs": [],
   "source": [
    "import numpy as np\n",
    "import pandas as pd\n",
    "import matplotlib.pyplot as plt\n",
    "import os"
   ]
  },
  {
   "cell_type": "code",
   "execution_count": 9,
   "metadata": {},
   "outputs": [],
   "source": [
    "full_data_path = 'c:/Users/Abhedaya/CO2Prediction/Datasets/Norbulk_2025.xlsx'\n",
    "df = pd.read_excel(full_data_path)"
   ]
  },
  {
   "cell_type": "code",
   "execution_count": 10,
   "metadata": {},
   "outputs": [],
   "source": [
    "df = df[df['SHIPTYPEID_CII'].notna()]\n",
    "df['SHIPTYPEID_CII'] = df['SHIPTYPEID_CII'].astype(float).astype(int)\n",
    "ship_types = df['SHIPTYPEID_CII'].unique()"
   ]
  },
  {
   "cell_type": "code",
   "execution_count": 11,
   "metadata": {},
   "outputs": [
    {
     "name": "stdout",
     "output_type": "stream",
     "text": [
      "    ME_MDO/MGO  ME_HFO  ME_LFO  AE_Boiler_MDO/MGO  AE_Boiler_HFO  \\\n",
      "0            0       0       0                  1              0   \n",
      "1            0       0       0                  1              0   \n",
      "2            0       0       0                  1              0   \n",
      "3            1       0       0                  1              0   \n",
      "4            0       0       0                  1              0   \n",
      "5            0       0       0                  1              0   \n",
      "6            0       0       0                  1              0   \n",
      "7            0       0       0                  1              0   \n",
      "8            0       0       0                  1              0   \n",
      "9            0       0       0                  1              0   \n",
      "10           0       0       0                  1              0   \n",
      "11           0       0       0                  1              0   \n",
      "12           0       0       0                  1              0   \n",
      "13           0       0       0                  1              0   \n",
      "14           0       0       0                  1              0   \n",
      "15           0       0       0                  1              0   \n",
      "16           0       0       0                  1              0   \n",
      "17           0       0       0                  1              0   \n",
      "18           1       0       0                  1              0   \n",
      "19           1       0       0                  1              0   \n",
      "20           1       0       0                  1              0   \n",
      "21           1       1       0                  1              1   \n",
      "22           0       1       0                  0              1   \n",
      "23           0       1       0                  0              1   \n",
      "24           0       1       0                  0              1   \n",
      "25           0       1       0                  0              1   \n",
      "26           0       0       0                  1              1   \n",
      "27           0       0       0                  0              1   \n",
      "28           0       1       0                  0              1   \n",
      "29           0       0       0                  1              1   \n",
      "\n",
      "    AE_Boiler_LFO  \n",
      "0               0  \n",
      "1               0  \n",
      "2               0  \n",
      "3               0  \n",
      "4               0  \n",
      "5               0  \n",
      "6               0  \n",
      "7               0  \n",
      "8               0  \n",
      "9               0  \n",
      "10              0  \n",
      "11              0  \n",
      "12              0  \n",
      "13              0  \n",
      "14              0  \n",
      "15              0  \n",
      "16              0  \n",
      "17              0  \n",
      "18              0  \n",
      "19              0  \n",
      "20              0  \n",
      "21              0  \n",
      "22              0  \n",
      "23              0  \n",
      "24              0  \n",
      "25              0  \n",
      "26              0  \n",
      "27              0  \n",
      "28              0  \n",
      "29              0  \n"
     ]
    }
   ],
   "source": [
    "fuel_columns = [\n",
    "    'ME_MDO/MGO', 'ME_HFO', 'ME_LFO',\n",
    "    'AE_Boiler_MDO/MGO', 'AE_Boiler_HFO', 'AE_Boiler_LFO'\n",
    "]\n",
    "\n",
    "# Apply encoding: value > 0 → 1, else 0\n",
    "df[fuel_columns] = df[fuel_columns].gt(0).astype(int)\n",
    "\n",
    "# Optional: Check result\n",
    "print(df[fuel_columns].head(30))"
   ]
  },
  {
   "cell_type": "code",
   "execution_count": 12,
   "metadata": {},
   "outputs": [],
   "source": [
    "output_dir = 'c:/Users/Abhedaya/CO2Prediction/Data_2025'\n",
    "os.makedirs(output_dir, exist_ok=True)"
   ]
  },
  {
   "cell_type": "code",
   "execution_count": 13,
   "metadata": {},
   "outputs": [
    {
     "name": "stdout",
     "output_type": "stream",
     "text": [
      "Saved Ship Type 6: 591 records → c:/Users/Abhedaya/CO2Prediction/Data_2025\\ShipType6.xlsx\n",
      "Saved Ship Type 4: 1580 records → c:/Users/Abhedaya/CO2Prediction/Data_2025\\ShipType4.xlsx\n",
      "Saved Ship Type 2: 623 records → c:/Users/Abhedaya/CO2Prediction/Data_2025\\ShipType2.xlsx\n",
      "Saved Ship Type 3: 3142 records → c:/Users/Abhedaya/CO2Prediction/Data_2025\\ShipType3.xlsx\n",
      "Saved Ship Type 1: 1862 records → c:/Users/Abhedaya/CO2Prediction/Data_2025\\ShipType1.xlsx\n",
      "Saved Ship Type 9: 109 records → c:/Users/Abhedaya/CO2Prediction/Data_2025\\ShipType9.xlsx\n"
     ]
    }
   ],
   "source": [
    "ship_type_dfs = {}\n",
    "for ship_type in ship_types:\n",
    "    ship_df = df[df['SHIPTYPEID_CII'] == ship_type]\n",
    "    ship_type_dfs[ship_type] = ship_df\n",
    "    output_file = os.path.join(output_dir, f'ShipType{ship_type}.xlsx')\n",
    "    ship_df.to_excel(output_file, index=False)\n",
    "    print(f\"Saved Ship Type {ship_type}: {len(ship_df)} records → {output_file}\")"
   ]
  },
  {
   "cell_type": "code",
   "execution_count": 14,
   "metadata": {},
   "outputs": [
    {
     "name": "stdout",
     "output_type": "stream",
     "text": [
      "\n",
      "--- Verification after saving ---\n",
      "Ship Type 6: 591 records\n",
      "Ship Type 4: 1580 records\n",
      "Ship Type 2: 623 records\n",
      "Ship Type 3: 3142 records\n",
      "Ship Type 1: 1862 records\n",
      "Ship Type 9: 109 records\n"
     ]
    }
   ],
   "source": [
    "print(\"\\n--- Verification after saving ---\")\n",
    "for ship_type in ship_types:\n",
    "    file_path = os.path.join(output_dir, f'ShipType{ship_type}.xlsx')\n",
    "    loaded_df = pd.read_excel(file_path)\n",
    "    print(f\"Ship Type {ship_type}: {len(loaded_df)} records\")"
   ]
  },
  {
   "cell_type": "code",
   "execution_count": null,
   "metadata": {},
   "outputs": [],
   "source": []
  }
 ],
 "metadata": {
  "kernelspec": {
   "display_name": "Python 3 (ipykernel)",
   "language": "python",
   "name": "python3"
  },
  "language_info": {
   "codemirror_mode": {
    "name": "ipython",
    "version": 3
   },
   "file_extension": ".py",
   "mimetype": "text/x-python",
   "name": "python",
   "nbconvert_exporter": "python",
   "pygments_lexer": "ipython3",
   "version": "3.10.0"
  }
 },
 "nbformat": 4,
 "nbformat_minor": 4
}
